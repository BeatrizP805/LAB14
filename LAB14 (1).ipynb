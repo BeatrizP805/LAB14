{
  "nbformat": 4,
  "nbformat_minor": 0,
  "metadata": {
    "colab": {
      "provenance": []
    },
    "kernelspec": {
      "name": "python3",
      "display_name": "Python 3"
    },
    "language_info": {
      "name": "python"
    }
  },
  "cells": [
    {
      "cell_type": "markdown",
      "source": [
        "#Title\n",
        "Respiratory"
      ],
      "metadata": {
        "id": "HqXNaQj_YyWF"
      }
    },
    {
      "cell_type": "markdown",
      "source": [
        "#Purpose\n",
        "Understand the tidal volume, expiratory reserve volume, expiratory capacity, inspiratory reserve volume, inspiratory capacity, and vital capacity using a spirometer."
      ],
      "metadata": {
        "id": "j9sU6HaeXiZK"
      }
    },
    {
      "cell_type": "markdown",
      "source": [
        "#Procedure\n",
        "In this laboratory, the lung capacitites of the tidal volume, vital capacity, inspiratory capacity, inspiratory reserve volume, expiratory capacity and expiratory reserve volume will be recoreded for student volunteers,. The time vital capacity (TVC) or forced expiratory volume (FEV T) will also be calculated for these students. The studnets will be introdued to the use and theory behind incentive inspiratory devices and a portable spirometer. Impedance pneumography, the measurement of ventilation rates by recording the changing impedance of an expanding and contracting thorax, may beb demonstrated."
      ],
      "metadata": {
        "id": "TzfCsIZ8X1zw"
      }
    },
    {
      "cell_type": "markdown",
      "source": [
        "#Results"
      ],
      "metadata": {
        "id": "GAxqLib3Z6gR"
      }
    },
    {
      "cell_type": "code",
      "source": [
        "# import packages\n",
        "import statistics\n",
        "import pandas as pd\n",
        "import scipy.stats as stats\n",
        "from scipy.stats import sem\n",
        "from statistics import mean, stdev\n",
        "import matplotlib.pyplot as plt\n",
        "import numpy as np\n",
        "#include if using a jupyter notebook, remove if using a .py file\n",
        "%matplotlib inline"
      ],
      "metadata": {
        "id": "aG6GhzlXNUod"
      },
      "execution_count": 2,
      "outputs": []
    },
    {
      "cell_type": "code",
      "source": [
        "f_vc = [2.7, 3.7, 3.2, 3.45, 3.2, 3.2]\n",
        "m_vc = [3.3, 4.5, 3.7]\n",
        "#Display the means\n",
        "f_vc, m_vc\n",
        "\n",
        "([2.7, 3.7, 3.2, 3.45, 3.2, 3.1], [3.3, 4.5, 3.7])"
      ],
      "metadata": {
        "colab": {
          "base_uri": "https://localhost:8080/"
        },
        "id": "XfWRvFjNNXdD",
        "outputId": "042836c8-8eec-44a6-d053-ec03e9ccfaee"
      },
      "execution_count": 3,
      "outputs": [
        {
          "output_type": "execute_result",
          "data": {
            "text/plain": [
              "([2.7, 3.7, 3.2, 3.45, 3.2, 3.1], [3.3, 4.5, 3.7])"
            ]
          },
          "metadata": {},
          "execution_count": 3
        }
      ]
    },
    {
      "cell_type": "code",
      "source": [
        "#Calculate the means of date\n",
        "fvc_mean = mean(f_vc)\n",
        "mvc_mean = mean(m_vc)\n",
        "\n",
        "#Display the means\n",
        "fvc_mean, mvc_mean"
      ],
      "metadata": {
        "colab": {
          "base_uri": "https://localhost:8080/"
        },
        "id": "Edzuhi-nN_D7",
        "outputId": "d2eefb70-af87-44f8-fdd2-1333bee8df47"
      },
      "execution_count": 4,
      "outputs": [
        {
          "output_type": "execute_result",
          "data": {
            "text/plain": [
              "(3.2416666666666667, 3.8333333333333335)"
            ]
          },
          "metadata": {},
          "execution_count": 4
        }
      ]
    },
    {
      "cell_type": "code",
      "source": [
        "#Calculate the SEM of data\n",
        "fvc_sem = sem(f_vc)\n",
        "mvc_sem = sem(m_vc)\n",
        "\n",
        "#Display the SEM\n",
        "fvc_sem, mvc_sem"
      ],
      "metadata": {
        "colab": {
          "base_uri": "https://localhost:8080/"
        },
        "id": "9I4Am5sBOwZd",
        "outputId": "3652571e-8eb0-4a42-b5f2-72fa5afebb4c"
      },
      "execution_count": 5,
      "outputs": [
        {
          "output_type": "execute_result",
          "data": {
            "text/plain": [
              "(0.13565683830083086, 0.3527668414752788)"
            ]
          },
          "metadata": {},
          "execution_count": 5
        }
      ]
    },
    {
      "cell_type": "code",
      "source": [
        "plt.bar(['Female VC', 'Male VC'],[fvc_mean,mvc_mean], yerr=[fvc_sem, mvc_sem], capsize=10)\n",
        "plt.xlabel('Biological sex')\n",
        "plt.ylabel('Vital Capacity (L)')\n",
        "plt.title('Vital Capacity Differences in Male vs Female')"
      ],
      "metadata": {
        "colab": {
          "base_uri": "https://localhost:8080/",
          "height": 490
        },
        "id": "6dtEcNCxPkW4",
        "outputId": "a0a65cd2-dbe8-432d-8465-b8be7745951b"
      },
      "execution_count": 11,
      "outputs": [
        {
          "output_type": "execute_result",
          "data": {
            "text/plain": [
              "Text(0.5, 1.0, 'Vital Capacity Differences in Male vs Female')"
            ]
          },
          "metadata": {},
          "execution_count": 11
        },
        {
          "output_type": "display_data",
          "data": {
            "text/plain": [
              "<Figure size 640x480 with 1 Axes>"
            ],
            "image/png": "[encoded data removed]"
          },
          "metadata": {}
        }
      ]
    },
    {
      "cell_type": "markdown",
      "source": [
        "#Discussion\n",
        "The movement of air in and out of the lungs is essential to maintain the important process of cellular respiration, the oxidation of nutrient molecules. The rhythmic inflation and deflation of the lungs (ventilation) simultaneously satisfies the continuous demands of cells for supply of oxygen and subsequent elimination of carbon dioxide. The volumes of air involved in pulmonary ventilation may be measured with a device known as a spirometer."
      ],
      "metadata": {
        "id": "CWTuLY9RaARV"
      }
    },
    {
      "cell_type": "markdown",
      "source": [
        "#Conclusion\n",
        "Be able to identify and give the function of each device used.\n",
        "Be able to identify the lung volumes and capacities recorded and know average values for each.\n",
        "Be able to explain the significance of the TVC or FEV T test.\n",
        "Be able to explain differences in predicted and actual VC measurements.\n",
        "Be able to explain the importance of the inspiratory incentive devices.\n",
        "Be able to explain the results of the impedance pneumography exercises."
      ],
      "metadata": {
        "id": "lJI5vVM-aFof"
      }
    }
  ]
}